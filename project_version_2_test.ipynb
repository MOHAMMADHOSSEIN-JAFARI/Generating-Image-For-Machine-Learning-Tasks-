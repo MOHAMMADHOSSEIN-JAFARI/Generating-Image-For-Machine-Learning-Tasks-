{
 "cells": [
  {
   "cell_type": "code",
   "execution_count": null,
   "id": "8920c4b9",
   "metadata": {},
   "outputs": [],
   "source": [
    "from tensor import *\n",
    "\n",
    "# for RGB images the chnnel = 3 and for Grayscale, the channel = 1\n",
    "\n",
    "# The tensor named image_tenosr stores all the generated images, and it has 4 dimensions, [batch, channel, height, width ]\n",
    "\n",
    "\n",
    "print(image_tensor.size())\n",
    "\n",
    "# each elemnt of the the tensor \"image_tensor\" is an image in the form of a pytroch tensor, which has 3 dimensions [channel, height, width]\n",
    "\n",
    "# it is possible to call the iamge numeber i, by writing image[i-1]\n",
    "\n",
    "# For example image numeber 1:\n",
    "\n",
    "img1 = image[0]\n",
    "\n",
    "print(img1.size())\n",
    "\n",
    "from torchvision.utils import save_image\n",
    "\n",
    "\n",
    "# It is possible to demonstrate and save the image as png file.\n",
    "\n",
    "# It shows each element of the pytorch tensor named image_tensor is an image.\n",
    "\n",
    "save_image(img1, 'img1.png')\n"
   ]
  }
 ],
 "metadata": {
  "kernelspec": {
   "display_name": "Python 3",
   "language": "python",
   "name": "python3"
  },
  "language_info": {
   "codemirror_mode": {
    "name": "ipython",
    "version": 3
   },
   "file_extension": ".py",
   "mimetype": "text/x-python",
   "name": "python",
   "nbconvert_exporter": "python",
   "pygments_lexer": "ipython3",
   "version": "3.8.8"
  }
 },
 "nbformat": 4,
 "nbformat_minor": 5
}
