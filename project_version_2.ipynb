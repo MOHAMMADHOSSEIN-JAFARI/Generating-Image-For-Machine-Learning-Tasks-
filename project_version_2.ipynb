{
 "cells": [
  {
   "cell_type": "code",
   "execution_count": null,
   "id": "fa1acb0e",
   "metadata": {},
   "outputs": [],
   "source": [
    from tensor import *

"# for RGB images the chnnel = 3 and for Grayscale, the channel = 1\n"


    
    
    
    "       "
   ]
  },
  {
   "cell_type": "code",
   "execution_count": null,
   "id": "8b00e037",
   "metadata": {},
   "outputs": [],
   "source": []
  }
 ],
 "metadata": {
  "kernelspec": {
   "display_name": "Python 3",
   "language": "python",
   "name": "python3"
  },
  "language_info": {
   "codemirror_mode": {
    "name": "ipython",
    "version": 3
   },
   "file_extension": ".py",
   "mimetype": "text/x-python",
   "name": "python",
   "nbconvert_exporter": "python",
   "pygments_lexer": "ipython3",
   "version": "3.8.8"
  }
 },
 "nbformat": 4,
 "nbformat_minor": 5
}
