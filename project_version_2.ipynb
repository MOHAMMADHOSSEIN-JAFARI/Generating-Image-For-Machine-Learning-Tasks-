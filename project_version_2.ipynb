{
 "cells": [
  {
   "cell_type": "markdown",
   "id": "21deea61",
   "metadata": {},
   "source": [
    "# Generation of random Voronoi Diagrams"
   ]
  },
  {
   "cell_type": "code",
   "execution_count": 1,
   "id": "d2e811cc",
   "metadata": {},
   "outputs": [
    {
     "name": "stdout",
     "output_type": "stream",
     "text": [
      "write the number of images: 2\n",
      "You have to fill the needed data for each of 2 images\n"
     ]
    }
   ],
   "source": [
    "image_number= int(input(\"write the number of images: \" ))\n",
    "\n",
    "explanation= \"You have to fill the needed data for each of {} images\".format(image_number)\n",
    "print(explanation)\n",
    "stored= []\n",
    "\n",
    "from scipy.spatial import Voronoi\n",
    "import numpy as np\n",
    "import matplotlib.pyplot as plt\n",
    "from matplotlib.backends.backend_agg import FigureCanvasAgg as FigureCanvas\n"
   ]
  },
  {
   "cell_type": "code",
   "execution_count": 2,
   "id": "c31e60ff",
   "metadata": {},
   "outputs": [
    {
     "name": "stdout",
     "output_type": "stream",
     "text": [
      "write the number of points for image number 1: 10\n",
      "write the number width for image number 1: 500\n",
      "write the number height for image number 1: 500\n",
      "write the number seeds for image number 1: 10\n",
      "write the number of points for image number 2: 20\n",
      "write the number width for image number 2: 300\n",
      "write the number height for image number 2: 300\n",
      "write the number seeds for image number 2: 10\n"
     ]
    }
   ],
   "source": [
    "for i in range(image_number):\n",
    "\n",
    "\n",
    "    def vorarr(regions, vertices, width, height, dpi=100):\n",
    "        fig = plt.Figure(figsize=(width/dpi, height/dpi), dpi=dpi)\n",
    "        canvas = FigureCanvas(fig)\n",
    "        ax = fig.add_axes([0,0,1,1])\n",
    "\n",
    "    # colorize\n",
    "        for region in regions:\n",
    "            polygon = vertices[region]\n",
    "            ax.fill(*zip(*polygon), alpha=0.4)\n",
    "\n",
    "        ax.plot(points[:,0], points[:,1], 'ko')\n",
    "        ax.set_xlim(vor.min_bound[0] - 0.1, vor.max_bound[0] + 0.1)\n",
    "        ax.set_ylim(vor.min_bound[1] - 0.1, vor.max_bound[1] + 0.1)\n",
    "\n",
    "        canvas.draw()\n",
    "        return np.frombuffer(canvas.tostring_rgb(), dtype='uint8').reshape(height, width, 3)\n",
    "\n",
    "#######\n",
    "\n",
    "\n",
    "# get random points\n",
    "    point_number= int(input(\"write the number of points for image number {}: \".format(i+1) ))\n",
    "    n_width=  int(input(\"write the number width for image number {}: \".format(i+1) ))\n",
    "    n_height= int(input(\"write the number height for image number {}: \".format(i+1) ))\n",
    "    n_seeds= int(input(\"write the number seeds for image number {}: \".format(i+1) ))\n",
    "    np.random.seed()\n",
    "    points = np.random.rand(point_number, 2)\n",
    "\n",
    "\n",
    "\n",
    "\n",
    "\n",
    "\n",
    "# compute Voronoi tesselation\n",
    "    vor = Voronoi(points)\n",
    "\n",
    "\n",
    "    def voronoi_finite_polygons_2d(vor, radius=None):\n",
    "\n",
    "\n",
    "        if vor.points.shape[1] != 2:\n",
    "            raise ValueError(\"Requires 2D input\")\n",
    "\n",
    "        new_regions = []\n",
    "        new_vertices = vor.vertices.tolist()\n",
    "\n",
    "        center = vor.points.mean(axis=0)\n",
    "        if radius is None:\n",
    "            radius = vor.points.ptp().max()\n",
    "\n",
    "    # Construct a map containing all ridges for a given point\n",
    "        all_ridges = {}\n",
    "        for (p1, p2), (v1, v2) in zip(vor.ridge_points, vor.ridge_vertices):\n",
    "            all_ridges.setdefault(p1, []).append((p2, v1, v2))\n",
    "            all_ridges.setdefault(p2, []).append((p1, v1, v2))\n",
    "\n",
    "    # Reconstruct infinite regions\n",
    "        for p1, region in enumerate(vor.point_region):\n",
    "            vertices = vor.regions[region]\n",
    "\n",
    "            if all(v >= 0 for v in vertices):\n",
    "                # finite region\n",
    "                new_regions.append(vertices)\n",
    "                continue\n",
    "\n",
    "        # reconstruct a non-finite region\n",
    "            ridges = all_ridges[p1]\n",
    "            new_region = [v for v in vertices if v >= 0]\n",
    "\n",
    "            for p2, v1, v2 in ridges:\n",
    "                if v2 < 0:\n",
    "                    v1, v2 = v2, v1\n",
    "                    if v1 >= 0:\n",
    "                # finite ridge: already in the region\n",
    "                        continue\n",
    "\n",
    "            # Compute the missing endpoint of an infinite ridge\n",
    "\n",
    "                t = vor.points[p2] - vor.points[p1] # tangent\n",
    "                t /= np.linalg.norm(t)\n",
    "                n = np.array([-t[1], t[0]])  # normal\n",
    "\n",
    "                midpoint = vor.points[[p1, p2]].mean(axis=0)\n",
    "                direction = np.sign(np.dot(midpoint - center, n)) * n\n",
    "                far_point = vor.vertices[v2] + direction * radius\n",
    "\n",
    "                new_region.append(len(new_vertices))\n",
    "                new_vertices.append(far_point.tolist())\n",
    "\n",
    "        # sort region counterclockwise\n",
    "            vs = np.asarray([new_vertices[v] for v in new_region])\n",
    "            c = vs.mean(axis=0)\n",
    "            angles = np.arctan2(vs[:,1] - c[1], vs[:,0] - c[0])\n",
    "            new_region = np.array(new_region)[np.argsort(angles)]\n",
    "\n",
    "        # finish\n",
    "            new_regions.append(new_region.tolist())\n",
    "\n",
    "        return new_regions, np.asarray(new_vertices)\n",
    "\n",
    "\n",
    "    regions, vertices = voronoi_finite_polygons_2d(vor)\n",
    "\n",
    "# convert plotting data to numpy array\n",
    "    arr = vorarr(regions, vertices, width= n_width, height= n_height)\n",
    "    stored.append(arr)\n",
    "# stored is a list whose elements are the numpy arraies for each image\n",
    "\n",
    "\n",
    "\n",
    "\n",
    "\n",
    "\n"
   ]
  },
  {
   "cell_type": "code",
   "execution_count": 3,
   "id": "62afe1f4",
   "metadata": {},
   "outputs": [
    {
     "data": {
      "text/plain": [
       "<matplotlib.image.AxesImage at 0x2b00dbe3c10>"
      ]
     },
     "execution_count": 3,
     "metadata": {},
     "output_type": "execute_result"
    },
    {
     "data": {
      "image/png": "[encoded data removed]",
      "text/plain": [
       "<Figure size 432x288 with 1 Axes>"
      ]
     },
     "metadata": {
      "needs_background": "light"
     },
     "output_type": "display_data"
    }
   ],
   "source": [
    "# yoy can check the below comands\n",
    "\n",
    "# print(len(stored))\n",
    "# print(type(stored[0]))\n",
    "\n",
    "# plot the first image\n",
    "plt.imshow(stored[0])\n"
   ]
  },
  {
   "cell_type": "code",
   "execution_count": null,
   "id": "89ced552",
   "metadata": {},
   "outputs": [],
   "source": []
  }
 ],
 "metadata": {
  "kernelspec": {
   "display_name": "Python 3",
   "language": "python",
   "name": "python3"
  },
  "language_info": {
   "codemirror_mode": {
    "name": "ipython",
    "version": 3
   },
   "file_extension": ".py",
   "mimetype": "text/x-python",
   "name": "python",
   "nbconvert_exporter": "python",
   "pygments_lexer": "ipython3",
   "version": "3.8.8"
  }
 },
 "nbformat": 4,
 "nbformat_minor": 5
}
